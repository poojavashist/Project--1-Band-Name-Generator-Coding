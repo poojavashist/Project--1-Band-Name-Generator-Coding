{
 "cells": [
  {
   "cell_type": "markdown",
   "metadata": {},
   "source": [
    "#  Project -1: Band Name Generator Coding\n"
   ]
  },
  {
   "cell_type": "markdown",
   "metadata": {},
   "source": [
    "1. create a greeting  for your program.\n",
    "2. Ask the user for the city that they grew up in.\n",
    "3. Ask the user for the name of a pet.\n",
    "4. Then Generate their band name."
   ]
  },
  {
   "cell_type": "code",
   "execution_count": 1,
   "metadata": {},
   "outputs": [
    {
     "name": "stdout",
     "output_type": "stream",
     "text": [
      "welcome to the Band Name Generator \n",
      "Enter your name\n",
      " Pooja\n",
      "Enter the city name yoy grew up in =Patiala\n",
      "Enter the Pet name = Tom\n",
      " YOUR BAND NAME IS :\n",
      "\n",
      " Patiala Tom\n"
     ]
    }
   ],
   "source": [
    "print(\"welcome to the Band Name Generator \")\n",
    "input (\"Enter your name\\n \")\n",
    "city = input (\"Enter the city name yoy grew up in =\")\n",
    "pet = input (\"Enter the Pet name = \")\n",
    "print(\" YOUR BAND NAME IS :\\n\\n \" + city + \" \"  +  pet )\n"
   ]
  },
  {
   "cell_type": "code",
   "execution_count": null,
   "metadata": {},
   "outputs": [],
   "source": []
  }
 ],
 "metadata": {
  "kernelspec": {
   "display_name": "Python 3",
   "language": "python",
   "name": "python3"
  },
  "language_info": {
   "codemirror_mode": {
    "name": "ipython",
    "version": 3
   },
   "file_extension": ".py",
   "mimetype": "text/x-python",
   "name": "python",
   "nbconvert_exporter": "python",
   "pygments_lexer": "ipython3",
   "version": "3.8.3"
  }
 },
 "nbformat": 4,
 "nbformat_minor": 4
}
